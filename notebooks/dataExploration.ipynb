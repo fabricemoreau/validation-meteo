{
 "cells": [
  {
   "cell_type": "code",
   "execution_count": 1,
   "metadata": {},
   "outputs": [],
   "source": [
    "import os\n",
    "import pandas as pd\n",
    "from pathlib import Path\n",
    "import numpy as np\n",
    "import seaborn as sns\n",
    "import plotly.graph_objects as go"
   ]
  },
  {
   "cell_type": "code",
   "execution_count": null,
   "metadata": {},
   "outputs": [],
   "source": [
    "dataPath = Path(\"../..\") / \"validation-meteo-data\" / \"donneesmeteo_2010-2024\" / \"donneesmeteo_2010-2024.csv\"\n",
    "meteodf = pd.read_csv(dataPath, sep=\";\")\n",
    "meteodf.head()"
   ]
  },
  {
   "cell_type": "code",
   "execution_count": null,
   "metadata": {},
   "outputs": [],
   "source": [
    "print(\"Parameters:\", meteodf.libellecourt.unique())\n",
    "meteodf.shape"
   ]
  },
  {
   "cell_type": "code",
   "execution_count": null,
   "metadata": {},
   "outputs": [],
   "source": [
    "meteodf.fillna({\"valeurorigine\": meteodf.valeur}, inplace=True) # NaNs in valeurorigine means that there has been no correction of the original value\n",
    "meteodf"
   ]
  },
  {
   "cell_type": "code",
   "execution_count": null,
   "metadata": {},
   "outputs": [],
   "source": [
    "meteodf.replace(to_replace={\"valeurorigine\":-999}, value=np.nan, inplace=True) # -999 can be considered as actual NaNs\n",
    "meteodf"
   ]
  },
  {
   "cell_type": "code",
   "execution_count": 6,
   "metadata": {},
   "outputs": [],
   "source": [
    "meteodfToUse = meteodf[meteodf.columns[:5]] # For the classification model we only need the first 5 columns"
   ]
  },
  {
   "cell_type": "code",
   "execution_count": null,
   "metadata": {},
   "outputs": [],
   "source": [
    "meteodfToUse.dropna(inplace=True)\n"
   ]
  },
  {
   "cell_type": "code",
   "execution_count": 8,
   "metadata": {},
   "outputs": [],
   "source": [
    "meteodfToUse.reset_index(drop=True, inplace=True)"
   ]
  },
  {
   "cell_type": "code",
   "execution_count": null,
   "metadata": {},
   "outputs": [],
   "source": [
    "meteodfToUse.datemesure = pd.to_datetime(meteodfToUse.datemesure.apply(lambda value: value.split(\" \")[0])) # all measurements date at 00:00:00 as hour so we can just drop it"
   ]
  },
  {
   "cell_type": "code",
   "execution_count": null,
   "metadata": {},
   "outputs": [],
   "source": [
    "meteodfToUse[\"correction\"] = (meteodfToUse.valeur != meteodfToUse.valeurorigine).astype(int)\n",
    "meteodfToUse"
   ]
  },
  {
   "cell_type": "code",
   "execution_count": null,
   "metadata": {},
   "outputs": [],
   "source": [
    "\n",
    "correctiondf = meteodfToUse.groupby([meteodfToUse.datemesure.dt.year, meteodfToUse.libellecourt]).correction.sum().reset_index()\n",
    "correctiondf"
   ]
  },
  {
   "cell_type": "code",
   "execution_count": null,
   "metadata": {},
   "outputs": [],
   "source": [
    "parameters = correctiondf.libellecourt.unique()\n",
    "fig = go.Figure()\n",
    "\n",
    "for parameter in parameters:\n",
    "    data = correctiondf[correctiondf.libellecourt == parameter]\n",
    "    fig.add_trace(\n",
    "        go.Scatter(x=data.datemesure, y=data.correction, name=parameter)\n",
    "    )\n",
    "fig.update_layout(title=dict(text=\"Number of corrections per year\"), \n",
    "                  xaxis=dict(title=dict(text=\"Year\")),\n",
    "                  yaxis=dict(title=dict(text=\"Corrections\")))\n",
    "fig.show()"
   ]
  },
  {
   "cell_type": "code",
   "execution_count": null,
   "metadata": {},
   "outputs": [],
   "source": []
  }
 ],
 "metadata": {
  "kernelspec": {
   "display_name": "exploreDataVenv",
   "language": "python",
   "name": "python3"
  },
  "language_info": {
   "codemirror_mode": {
    "name": "ipython",
    "version": 3
   },
   "file_extension": ".py",
   "mimetype": "text/x-python",
   "name": "python",
   "nbconvert_exporter": "python",
   "pygments_lexer": "ipython3",
   "version": "3.11.2"
  }
 },
 "nbformat": 4,
 "nbformat_minor": 2
}
