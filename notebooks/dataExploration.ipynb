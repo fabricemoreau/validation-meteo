{
 "cells": [
  {
   "cell_type": "markdown",
   "metadata": {},
   "source": [
    "# Data cleaning and pre processing"
   ]
  },
  {
   "cell_type": "code",
   "execution_count": 5,
   "metadata": {},
   "outputs": [],
   "source": [
    "import os\n",
    "import pandas as pd\n",
    "from pathlib import Path\n",
    "import numpy as np\n",
    "import seaborn as sns\n",
    "import plotly.graph_objects as go\n",
    "import plotly.express as px\n"
   ]
  },
  {
   "cell_type": "code",
   "execution_count": null,
   "metadata": {},
   "outputs": [],
   "source": [
    "# dataPath = Path(\"../..\") / \"validation-meteo-data\" / \"donneesmeteo_2010-2024\" / \"donneesmeteo_2010-2024.csv\"\n",
    "dataPath = Path(\"../..\") / \"validation-meteo-data\" / \"donneesmeteo_2010-2024_500stations\" / \"donneesmeteo_2010-2024_500stations.csv\"\n",
    "# dataPath = Path(\"../..\") / \"validation-meteo-data\" / \"donneesmeteo_2011-2015_completes\" / \"donneesmeteo_2011-2015_completes.csv\"\n",
    "meteodf = pd.read_csv(dataPath, sep=\";\")\n",
    "meteodf.head()"
   ]
  },
  {
   "cell_type": "code",
   "execution_count": null,
   "metadata": {},
   "outputs": [],
   "source": [
    "print(\"Parameters:\", meteodf.libellecourt.unique())\n",
    "print(\"Shape:\", meteodf.shape)\n",
    "print(\"-----Info------\\n\")\n",
    "display(meteodf.info())\n",
    "print(\"-----NaNs Count-----\")\n",
    "display(meteodf.isna().sum())"
   ]
  },
  {
   "cell_type": "code",
   "execution_count": null,
   "metadata": {},
   "outputs": [],
   "source": [
    "meteodfToUse = meteodf[[\"codearvalis\", \"libellecourt\", \"datemesure\", \"valeur\", \"valeurorigine\"]] # For the classification model we only need these columns\n",
    "meteodfToUse.head()"
   ]
  },
  {
   "cell_type": "code",
   "execution_count": null,
   "metadata": {},
   "outputs": [],
   "source": [
    "parametersToUse = [\"ETP\", \"GLOT\", \"RR\", \"TN\", \"TX\"]\n",
    "meteodfToUse = meteodfToUse[meteodfToUse.libellecourt.isin(parametersToUse)]#Select interesting parameters\n",
    "display(meteodfToUse.head())\n",
    "print(\"Parameters:\", meteodfToUse.libellecourt.unique())\n",
    "print(\"-----NaN count --------\")\n",
    "display(meteodfToUse.isna().sum())"
   ]
  },
  {
   "cell_type": "code",
   "execution_count": null,
   "metadata": {},
   "outputs": [],
   "source": [
    "meteodfToUse.fillna({\"valeurorigine\": meteodfToUse.valeur}, inplace=True) # NaNs in valeurorigine means that there has been no correction of the original value\n",
    "print(\"-----NaN count --------\")\n",
    "display(meteodfToUse.isna().sum())"
   ]
  },
  {
   "cell_type": "code",
   "execution_count": null,
   "metadata": {},
   "outputs": [],
   "source": [
    "meteodfToUse.replace(to_replace={\"valeurorigine\":-999}, value=np.nan, inplace=True) # -999 can be considered as actual NaNs\n",
    "print(\"-----NaN count --------\")\n",
    "display(meteodfToUse.isna().sum())\n",
    "meteodfToUse.valeurorigine.min()"
   ]
  },
  {
   "cell_type": "code",
   "execution_count": 12,
   "metadata": {},
   "outputs": [],
   "source": [
    "# meteodfToUse.dropna(inplace=True) # Remove the nans (-999 value in valeurorigine) because they are easily classified as to be corrected\n",
    "# meteodfToUse.reset_index(drop=True, inplace=True)\n",
    "# display(meteodfToUse.head())\n",
    "# print(\"------NaN count------\")\n",
    "# display(meteodfToUse.isna().sum())"
   ]
  },
  {
   "cell_type": "code",
   "execution_count": null,
   "metadata": {},
   "outputs": [],
   "source": [
    "meteodfToUse.datemesure = pd.to_datetime(meteodfToUse.datemesure.apply(lambda value: value.split(\" \")[0])) # all measurements date at 00:00:00 as hour so we can just drop it\n",
    "meteodfToUse.info()"
   ]
  },
  {
   "cell_type": "code",
   "execution_count": null,
   "metadata": {},
   "outputs": [],
   "source": [
    "meteodfToUse[\"correction\"] = (meteodfToUse.valeur != meteodfToUse.valeurorigine).astype(int) # values that have been corrected have valeurorigine different from valeur (threshold selection can be inserted here to avoid little corrections)\n",
    "meteodfToUse.head()"
   ]
  },
  {
   "cell_type": "code",
   "execution_count": null,
   "metadata": {},
   "outputs": [],
   "source": [
    "meteodfToUse[\"difference\"] = meteodfToUse.valeur - meteodfToUse.valeurorigine\n",
    "meteodfToUse.head()"
   ]
  },
  {
   "cell_type": "code",
   "execution_count": null,
   "metadata": {},
   "outputs": [],
   "source": [
    "meteodf[(meteodf.libellecourt.isin(parametersToUse)) & (meteodf.valeurorigine == -999)].idstatut.value_counts()"
   ]
  },
  {
   "cell_type": "code",
   "execution_count": null,
   "metadata": {},
   "outputs": [],
   "source": [
    "meteodfToUse[meteodfToUse.valeurorigine.isna()].head()"
   ]
  },
  {
   "cell_type": "markdown",
   "metadata": {},
   "source": [
    "# Plotting"
   ]
  },
  {
   "cell_type": "code",
   "execution_count": 84,
   "metadata": {},
   "outputs": [],
   "source": [
    "imagesDir = dataPath.parents[1] / \"images\"\n",
    "if not os.path.exists(imagesDir):\n",
    "    print(\"create image directory\")\n",
    "    os.mkdir(imagesDir)\n",
    "\n",
    "def plotVarDateParameter(df, varToPlot, dateUnit, varToPlotName=None, normalize=False, saveToDir=None, parameters=None):\n",
    "    if varToPlotName is None:\n",
    "        varToPlotName = varToPlot\n",
    "    if parameters is None:\n",
    "        parameters = df.libellecourt.unique()\n",
    "    fig = go.Figure()\n",
    "\n",
    "    for parameter in parameters:\n",
    "        data = df[df.libellecourt == parameter]\n",
    "        if normalize:\n",
    "            normalization = data[varToPlot].abs().max()\n",
    "        else:\n",
    "            normalization = 1\n",
    "        fig.add_trace(\n",
    "            go.Scatter(x=data.datemesure, y=data[varToPlot] / normalization, name=parameter)\n",
    "        )\n",
    "    title = varToPlotName + \" per \" + dateUnit\n",
    "    fig.update_layout(title=dict(text=title), \n",
    "                    xaxis=dict(title=dict(text=dateUnit)),\n",
    "                    yaxis=dict(title=dict(text=varToPlotName)))\n",
    "    fig.show()\n",
    "    if saveToDir is not None:\n",
    "        fig.write_image(saveToDir / (title + \".png\"))\n",
    "\n",
    "def histVarDateParameter(df, varToPlot, dateUnit, varToPlotName=None, saveToDir=None):\n",
    "    if varToPlotName is None:\n",
    "        varToPlotName = varToPlot\n",
    "    title = varToPlotName + \" per \" + dateUnit\n",
    "    fig = px.bar(df, x=\"datemesure\", y=varToPlot, color=\"libellecourt\", barmode=\"group\", title=title, \n",
    "                 labels={\"datemesure\": dateUnit, \"correction\": varToPlotName})\n",
    "    fig.show()\n",
    "    if saveToDir is not None:\n",
    "        fig.write_image(saveToDir / (title + \".png\"))"
   ]
  },
  {
   "cell_type": "code",
   "execution_count": null,
   "metadata": {},
   "outputs": [],
   "source": [
    "\n",
    "correctiondfY = meteodfToUse.groupby([meteodfToUse.datemesure.dt.year, meteodfToUse.libellecourt]).correction.sum().reset_index() #Number of corrections per parameter per year\n",
    "display(correctiondfY.head())\n",
    "plotVarDateParameter(correctiondfY, \"correction\", \"year\", varToPlotName=\"Corrections normalized\", normalize=True, saveToDir=imagesDir)\n",
    "histVarDateParameter(correctiondfY, 'correction', 'year', varToPlotName='Corrections', saveToDir=imagesDir)\n",
    "correctiondfYNaNs = meteodfToUse[meteodfToUse.valeurorigine.isna()].groupby([meteodfToUse.datemesure.dt.year, meteodfToUse.libellecourt]).correction.sum().reset_index() #Number of corrections per parameter per year\n",
    "display(correctiondfYNaNs.head())\n",
    "plotVarDateParameter(correctiondfYNaNs, \"correction\", \"year\", varToPlotName=\"Corrections normalized (nan values only)\", normalize=True, saveToDir=imagesDir)\n",
    "histVarDateParameter(correctiondfYNaNs, 'correction', 'year', varToPlotName='Corrections (nan values only)', saveToDir=imagesDir)\n",
    "correctiondfYNoNaNs = meteodfToUse[~meteodfToUse.valeurorigine.isna()].groupby([meteodfToUse.datemesure.dt.year, meteodfToUse.libellecourt]).correction.sum().reset_index() #Number of corrections per parameter per year\n",
    "display(correctiondfYNoNaNs.head())\n",
    "plotVarDateParameter(correctiondfYNoNaNs, \"correction\", \"year\", varToPlotName=\"Corrections normalized (no nans)\", normalize=True, saveToDir=imagesDir)\n",
    "histVarDateParameter(correctiondfYNoNaNs, 'correction', 'year', varToPlotName='Corrections (no nans)', saveToDir=imagesDir)\n"
   ]
  },
  {
   "cell_type": "code",
   "execution_count": null,
   "metadata": {},
   "outputs": [],
   "source": [
    "correctiondfM = meteodfToUse.groupby([meteodfToUse.datemesure.dt.month, meteodfToUse.libellecourt]).correction.sum().reset_index() #Number of corrections per parameter per month\n",
    "display(correctiondfM.head())\n",
    "plotVarDateParameter(correctiondfM, \"correction\", \"month\", \"Corrections\")\n",
    "plotVarDateParameter(correctiondfM, \"correction\", \"month\", \"Corrections normalized\", normalize=True)\n",
    "histVarDateParameter(correctiondfM, 'correction', 'month', 'Corrections', saveToDir=imagesDir)\n",
    "correctiondfMNaNs = meteodfToUse[meteodfToUse.valeurorigine.isna()].groupby([meteodfToUse.datemesure.dt.month, meteodfToUse.libellecourt]).correction.sum().reset_index() #Number of corrections per parameter per month\n",
    "display(correctiondfMNaNs.head())\n",
    "plotVarDateParameter(correctiondfMNaNs, \"correction\", \"month\", \"Corrections (nan values only)\")\n",
    "plotVarDateParameter(correctiondfMNaNs, \"correction\", \"month\", \"Corrections normalized (nan values only)\", normalize=True)\n",
    "histVarDateParameter(correctiondfMNaNs, 'correction', 'month', 'Corrections (nan values only)', saveToDir=imagesDir)\n",
    "correctiondfMNoNaNs = meteodfToUse[~meteodfToUse.valeurorigine.isna()].groupby([meteodfToUse.datemesure.dt.month, meteodfToUse.libellecourt]).correction.sum().reset_index() #Number of corrections per parameter per month\n",
    "display(correctiondfMNoNaNs.head())\n",
    "plotVarDateParameter(correctiondfMNoNaNs, \"correction\", \"month\", \"Corrections (no nans)\")\n",
    "plotVarDateParameter(correctiondfMNoNaNs, \"correction\", \"month\", \"Corrections normalized (no nans)\", normalize=True)\n",
    "histVarDateParameter(correctiondfMNoNaNs, 'correction', 'month', 'Corrections (no nans)', saveToDir=imagesDir)"
   ]
  },
  {
   "cell_type": "code",
   "execution_count": null,
   "metadata": {},
   "outputs": [],
   "source": [
    "valeurdfM = meteodfToUse.groupby([meteodfToUse.datemesure.dt.month, meteodfToUse.libellecourt]).valeur.mean().reset_index() # Valeur vs month per parameter\n",
    "display(valeurdfM.head())\n",
    "plotVarDateParameter(valeurdfM, \"valeur\", \"month\", varToPlotName=\"valeur normalized\",normalize=True, saveToDir=imagesDir)\n",
    "plotVarDateParameter(valeurdfM, \"valeur\", \"month\", varToPlotName=\"valeur\")\n",
    "histVarDateParameter(valeurdfM, 'valeur', 'month', 'valeur')"
   ]
  },
  {
   "cell_type": "code",
   "execution_count": null,
   "metadata": {},
   "outputs": [],
   "source": [
    "valeurdfY = meteodfToUse.groupby([meteodfToUse.datemesure.dt.year, meteodfToUse.libellecourt]).valeur.mean().reset_index()\n",
    "display(valeurdfY.head())\n",
    "plotVarDateParameter(valeurdfY, \"valeur\", \"year\", varToPlotName=\"valeur normalized\",normalize=True, saveToDir=imagesDir)\n",
    "plotVarDateParameter(valeurdfY, \"valeur\", \"year\", varToPlotName=\"temperature normalized\",normalize=True, parameters=[\"TX\", \"TN\"], saveToDir=imagesDir)\n",
    "plotVarDateParameter(valeurdfY, \"valeur\", \"year\", varToPlotName=\"valeur\")\n",
    "histVarDateParameter(valeurdfY, 'valeur', 'year')"
   ]
  },
  {
   "cell_type": "code",
   "execution_count": null,
   "metadata": {},
   "outputs": [],
   "source": [
    "correctedDF = meteodfToUse[meteodfToUse.correction == 1]\n",
    "display(correctedDF.head())\n",
    "differencedfY = correctedDF.groupby([correctedDF.datemesure.dt.year, correctedDF.libellecourt]).difference.mean().reset_index()\n",
    "valOrigCorrectedDfY = correctedDF.groupby([correctedDF.datemesure.dt.year, correctedDF.libellecourt]).valeurorigine.mean().reset_index()\n",
    "differencedfY = differencedfY.merge(valOrigCorrectedDfY)\n",
    "differencedfY[\"relative_corr\"] = differencedfY.difference / differencedfY.valeurorigine\n",
    "display(differencedfY.head())\n",
    "plotVarDateParameter(differencedfY, \"difference\", \"year\", \"valeur - valeurorigine\", normalize=True)\n",
    "plotVarDateParameter(differencedfY, \"relative_corr\", \"year\", \"(valeur - valeurorigine)/valeurorigine\")\n",
    "histVarDateParameter(differencedfY, 'relative_corr', 'year', 'relative correction', saveToDir=imagesDir)\n"
   ]
  },
  {
   "cell_type": "code",
   "execution_count": null,
   "metadata": {},
   "outputs": [],
   "source": [
    "differencedfM = correctedDF.groupby([correctedDF.datemesure.dt.month, correctedDF.libellecourt]).difference.mean().reset_index()\n",
    "valOrigCorrectedDfM = correctedDF.groupby([correctedDF.datemesure.dt.month, correctedDF.libellecourt]).valeurorigine.mean().reset_index()\n",
    "differencedfM = differencedfM.merge(valOrigCorrectedDfM)\n",
    "differencedfM[\"relative_corr\"] = differencedfM.difference / differencedfM.valeurorigine\n",
    "display(differencedfM.head())\n",
    "plotVarDateParameter(differencedfM, \"difference\", \"month\", \"valeur - valeurorigine normalized\", normalize=True)\n",
    "plotVarDateParameter(differencedfM, \"relative_corr\", \"month\", \"(valeur - valeurorigine)/valeurorigine\")\n",
    "histVarDateParameter(differencedfM, 'relative_corr', 'month', 'relative correction', saveToDir=imagesDir)\n",
    "histVarDateParameter(differencedfM[differencedfM.libellecourt != 'TN'], 'relative_corr', 'month', 'relative correction (no TN)', saveToDir=imagesDir)\n"
   ]
  },
  {
   "cell_type": "code",
   "execution_count": null,
   "metadata": {},
   "outputs": [],
   "source": [
    "meteodfToUse[\"year\"] = meteodfToUse.datemesure.dt.year\n",
    "yearsPerStation = meteodfToUse.groupby([\"codearvalis\"]).year.nunique().reset_index()\n",
    "title = \"Distribution of the number of active years per stations\"\n",
    "fig = px.histogram(yearsPerStation, x=\"year\", labels={\"year\": \"number of years active\"}, title=title)\n",
    "fig.update_layout(bargap=0.2)\n",
    "fig.show()\n",
    "fig.write_image(imagesDir / (title + \".png\"))\n"
   ]
  },
  {
   "cell_type": "code",
   "execution_count": null,
   "metadata": {},
   "outputs": [],
   "source": [
    "stationsPerYear = meteodfToUse.groupby([meteodfToUse.datemesure.dt.year]).codearvalis.nunique().reset_index()\n",
    "title = \"Number of active stations per year\"\n",
    "fig = px.bar(stationsPerYear, x=\"datemesure\", y=\"codearvalis\", labels={\"codearvalis\": \"number of active stations\", \"datemesure\": \"year\"}, title=title)\n",
    "fig.show()\n",
    "fig.write_image(imagesDir / (title + \".png\"))\n"
   ]
  },
  {
   "cell_type": "code",
   "execution_count": null,
   "metadata": {},
   "outputs": [],
   "source": []
  }
 ],
 "metadata": {
  "kernelspec": {
   "display_name": "exploreDataVenv",
   "language": "python",
   "name": "python3"
  },
  "language_info": {
   "codemirror_mode": {
    "name": "ipython",
    "version": 3
   },
   "file_extension": ".py",
   "mimetype": "text/x-python",
   "name": "python",
   "nbconvert_exporter": "python",
   "pygments_lexer": "ipython3",
   "version": "3.11.2"
  }
 },
 "nbformat": 4,
 "nbformat_minor": 2
}
