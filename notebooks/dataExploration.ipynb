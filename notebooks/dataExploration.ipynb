{
 "cells": [
  {
   "cell_type": "code",
   "execution_count": 1,
   "metadata": {},
   "outputs": [],
   "source": [
    "import os\n",
    "import pandas as pd\n",
    "from pathlib import Path\n",
    "import numpy as np\n",
    "import seaborn as sns\n",
    "import plotly.graph_objects as go"
   ]
  },
  {
   "cell_type": "code",
   "execution_count": null,
   "metadata": {},
   "outputs": [],
   "source": [
    "dataPath = Path(\"../..\") / \"validation-meteo-data\" / \"donneesmeteo_2010-2024\" / \"donneesmeteo_2010-2024.csv\"\n",
    "meteodf = pd.read_csv(dataPath, sep=\";\")\n",
    "meteodf.head()"
   ]
  },
  {
   "cell_type": "code",
   "execution_count": null,
   "metadata": {},
   "outputs": [],
   "source": [
    "print(\"Parameters:\", meteodf.libellecourt.unique())\n",
    "meteodf.shape"
   ]
  },
  {
   "cell_type": "code",
   "execution_count": null,
   "metadata": {},
   "outputs": [],
   "source": [
    "meteodf.fillna({\"valeurorigine\": meteodf.valeur}, inplace=True) # NaNs in valeurorigine means that there has been no correction of the original value\n",
    "meteodf"
   ]
  },
  {
   "cell_type": "code",
   "execution_count": null,
   "metadata": {},
   "outputs": [],
   "source": [
    "meteodf.replace(to_replace={\"valeurorigine\":-999}, value=np.nan, inplace=True) # -999 can be considered as actual NaNs\n",
    "meteodf"
   ]
  },
  {
   "cell_type": "code",
   "execution_count": 6,
   "metadata": {},
   "outputs": [],
   "source": [
    "meteodfToUse = meteodf[meteodf.columns[:5]] # For the classification model we only need the first 5 columns"
   ]
  },
  {
   "cell_type": "code",
   "execution_count": null,
   "metadata": {},
   "outputs": [],
   "source": [
    "meteodfToUse.dropna(inplace=True) # Remove the nans (-999 value in valeurorigine) because they are easily classified as to be corrected\n"
   ]
  },
  {
   "cell_type": "code",
   "execution_count": 8,
   "metadata": {},
   "outputs": [],
   "source": [
    "meteodfToUse.reset_index(drop=True, inplace=True)"
   ]
  },
  {
   "cell_type": "code",
   "execution_count": null,
   "metadata": {},
   "outputs": [],
   "source": [
    "meteodfToUse.datemesure = pd.to_datetime(meteodfToUse.datemesure.apply(lambda value: value.split(\" \")[0])) # all measurements date at 00:00:00 as hour so we can just drop it"
   ]
  },
  {
   "cell_type": "code",
   "execution_count": 10,
   "metadata": {},
   "outputs": [],
   "source": [
    "meteodfToUse = meteodfToUse[meteodfToUse.libellecourt != \"INST\"] #The INST parameter is used only on 2010 and has been corrected only once"
   ]
  },
  {
   "cell_type": "code",
   "execution_count": null,
   "metadata": {},
   "outputs": [],
   "source": [
    "meteodfToUse[\"correction\"] = (meteodfToUse.valeur != meteodfToUse.valeurorigine).astype(int) # values that have been corrected have valeurorigine different from valeur (threshold selection can be inserted here to avoid little corrections)\n",
    "meteodfToUse"
   ]
  },
  {
   "cell_type": "code",
   "execution_count": null,
   "metadata": {},
   "outputs": [],
   "source": [
    "\n",
    "correctiondf = meteodfToUse.groupby([meteodfToUse.datemesure.dt.year, meteodfToUse.libellecourt]).correction.sum().reset_index()\n",
    "correctiondf"
   ]
  },
  {
   "cell_type": "code",
   "execution_count": null,
   "metadata": {},
   "outputs": [],
   "source": [
    "def plotVarDateParameter(df, varToPlot, dateUnit, varToPlotName=None, normalize=False):\n",
    "    if varToPlotName is None:\n",
    "        varToPlotName = varToPlot\n",
    "    parameters = df.libellecourt.unique()\n",
    "    fig = go.Figure()\n",
    "\n",
    "    for parameter in parameters:\n",
    "        data = df[df.libellecourt == parameter]\n",
    "        if normalize:\n",
    "            normalization = data[varToPlot].abs().max()\n",
    "        else:\n",
    "            normalization = 1\n",
    "        fig.add_trace(\n",
    "            go.Scatter(x=data.datemesure, y=data[varToPlot] / normalization, name=parameter)\n",
    "        )\n",
    "    fig.update_layout(title=dict(text=varToPlotName + \" per \" + dateUnit), \n",
    "                    xaxis=dict(title=dict(text=dateUnit)),\n",
    "                    yaxis=dict(title=dict(text=varToPlotName)))\n",
    "    fig.show()\n",
    "    \n",
    "plotVarDateParameter(correctiondf, \"correction\", \"year\", varToPlotName=\"Corrections\")"
   ]
  },
  {
   "cell_type": "code",
   "execution_count": null,
   "metadata": {},
   "outputs": [],
   "source": [
    "correctiondfM = meteodfToUse.groupby([meteodfToUse.datemesure.dt.month, meteodfToUse.libellecourt]).correction.sum().reset_index()\n",
    "correctiondfM"
   ]
  },
  {
   "cell_type": "code",
   "execution_count": null,
   "metadata": {},
   "outputs": [],
   "source": [
    "plotVarDateParameter(correctiondfM, \"correction\", \"month\", \"Corrections\")"
   ]
  },
  {
   "cell_type": "code",
   "execution_count": null,
   "metadata": {},
   "outputs": [],
   "source": [
    "valeurdfM = meteodfToUse.groupby([meteodfToUse.datemesure.dt.month, meteodfToUse.libellecourt]).valeur.mean().reset_index()\n",
    "valeurdfM"
   ]
  },
  {
   "cell_type": "code",
   "execution_count": null,
   "metadata": {},
   "outputs": [],
   "source": [
    "plotVarDateParameter(valeurdfM, \"valeur\", \"month\", varToPlotName=\"valeur normalized\",normalize=True)\n",
    "plotVarDateParameter(valeurdfM, \"valeur\", \"month\", varToPlotName=\"valeur\")"
   ]
  },
  {
   "cell_type": "code",
   "execution_count": null,
   "metadata": {},
   "outputs": [],
   "source": [
    "meteodfToUse[\"difference\"] = meteodfToUse.valeur - meteodfToUse.valeurorigine\n",
    "\n",
    "meteodfToUse"
   ]
  },
  {
   "cell_type": "code",
   "execution_count": null,
   "metadata": {},
   "outputs": [],
   "source": [
    "correctedDF = meteodfToUse[meteodfToUse.correction == 1]\n",
    "correctedDF"
   ]
  },
  {
   "cell_type": "code",
   "execution_count": null,
   "metadata": {},
   "outputs": [],
   "source": [
    "differencedfY = correctedDF.groupby([correctedDF.datemesure.dt.year, correctedDF.libellecourt]).difference.mean().reset_index()\n",
    "valOrigCorrectedDfY = correctedDF.groupby([correctedDF.datemesure.dt.year, correctedDF.libellecourt]).valeurorigine.mean().reset_index()\n",
    "differencedfY = differencedfY.merge(valOrigCorrectedDfY)\n",
    "differencedfY[\"relative_corr\"] = differencedfY.difference / differencedfY.valeurorigine\n",
    "differencedfY"
   ]
  },
  {
   "cell_type": "code",
   "execution_count": null,
   "metadata": {},
   "outputs": [],
   "source": [
    "plotVarDateParameter(differencedfY, \"difference\", \"year\", \"valeur - valeurorigine\", normalize=True)\n",
    "plotVarDateParameter(differencedfY, \"relative_corr\", \"year\", \"(valeur - valeurorigine)/valeurorigine\")"
   ]
  },
  {
   "cell_type": "code",
   "execution_count": null,
   "metadata": {},
   "outputs": [],
   "source": [
    "differencedfM = correctedDF.groupby([correctedDF.datemesure.dt.month, correctedDF.libellecourt]).difference.mean().reset_index()\n",
    "valOrigCorrectedDfM = correctedDF.groupby([correctedDF.datemesure.dt.month, correctedDF.libellecourt]).valeurorigine.mean().reset_index()\n",
    "differencedfM = differencedfM.merge(valOrigCorrectedDfM)\n",
    "differencedfM[\"relative_corr\"] = differencedfM.difference / differencedfM.valeurorigine\n",
    "differencedfM"
   ]
  },
  {
   "cell_type": "code",
   "execution_count": null,
   "metadata": {},
   "outputs": [],
   "source": [
    "plotVarDateParameter(differencedfM, \"difference\", \"month\", \"valeur - valeurorigine\", normalize=True)\n",
    "plotVarDateParameter(differencedfM, \"relative_corr\", \"month\", \"(valeur - valeurorigine)/valeurorigine\")"
   ]
  },
  {
   "cell_type": "code",
   "execution_count": null,
   "metadata": {},
   "outputs": [],
   "source": [
    "\n"
   ]
  },
  {
   "cell_type": "code",
   "execution_count": null,
   "metadata": {},
   "outputs": [],
   "source": []
  }
 ],
 "metadata": {
  "kernelspec": {
   "display_name": "exploreDataVenv",
   "language": "python",
   "name": "python3"
  },
  "language_info": {
   "codemirror_mode": {
    "name": "ipython",
    "version": 3
   },
   "file_extension": ".py",
   "mimetype": "text/x-python",
   "name": "python",
   "nbconvert_exporter": "python",
   "pygments_lexer": "ipython3",
   "version": "3.11.2"
  }
 },
 "nbformat": 4,
 "nbformat_minor": 2
}
